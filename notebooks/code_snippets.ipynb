{
 "cells": [
  {
   "cell_type": "markdown",
   "metadata": {},
   "source": [
    "## Imports"
   ]
  },
  {
   "cell_type": "code",
   "execution_count": 80,
   "metadata": {},
   "outputs": [
    {
     "data": {
      "text/plain": [
       "<module 'wxobs.stations' from '../wxobs/stations.py'>"
      ]
     },
     "execution_count": 80,
     "metadata": {},
     "output_type": "execute_result"
    }
   ],
   "source": [
    "# ---- System\n",
    "import importlib\n",
    "import json\n",
    "import sqlite3\n",
    "import sys\n",
    "\n",
    "# ---- External\n",
    "import requests\n",
    "from bs4 import BeautifulSoup as bs\n",
    "\n",
    "sys.path.append(\"..\")\n",
    "from wxobs import observation\n",
    "from wxobs import stations\n",
    "\n",
    "importlib.reload(observation)\n",
    "importlib.reload(stations)"
   ]
  },
  {
   "cell_type": "code",
   "execution_count": 81,
   "metadata": {},
   "outputs": [
    {
     "name": "stdout",
     "output_type": "stream",
     "text": [
      "KIAD 300352Z 19004KT 10SM FEW140 FEW250 26/19 A3000 RMK AO2 SLP154 T02560194\n",
      "{'@context': ['https://raw.githubusercontent.com/geojson/geojson-ld/master/contexts/geojson-base.jsonld', {'wx': 'https://api.weather.gov/ontology#', 's': 'https://schema.org/', 'geo': 'http://www.opengis.net/ont/geosparql#', 'unit': 'http://codes.wmo.int/common/unit/', '@vocab': 'https://api.weather.gov/ontology#', 'geometry': {'@id': 's:GeoCoordinates', '@type': 'geo:wktLiteral'}, 'city': 's:addressLocality', 'state': 's:addressRegion', 'distance': {'@id': 's:Distance', '@type': 's:QuantitativeValue'}, 'bearing': {'@type': 's:QuantitativeValue'}, 'value': {'@id': 's:value'}, 'unitCode': {'@id': 's:unitCode', '@type': '@id'}, 'forecastOffice': {'@type': '@id'}, 'forecastGridData': {'@type': '@id'}, 'publicZone': {'@type': '@id'}, 'county': {'@type': '@id'}}], 'id': 'https://api.weather.gov/stations/KIAD/observations/2019-07-30T03:52:00+00:00', 'type': 'Feature', 'geometry': {'type': 'Point', 'coordinates': [-77.45, 38.95]}, 'properties': {'@id': 'https://api.weather.gov/stations/KIAD/observations/2019-07-30T03:52:00+00:00', '@type': 'wx:ObservationStation', 'elevation': {'value': 98, 'unitCode': 'unit:m'}, 'station': 'https://api.weather.gov/stations/KIAD', 'timestamp': '2019-07-30T03:52:00+00:00', 'rawMessage': 'KIAD 300352Z 19004KT 10SM FEW140 FEW250 26/19 A3000 RMK AO2 SLP154 T02560194', 'textDescription': 'Mostly Clear', 'icon': 'https://api.weather.gov/icons/land/night/few?size=medium', 'presentWeather': [], 'temperature': {'value': 25.600000000000023, 'unitCode': 'unit:degC', 'qualityControl': 'qc:V'}, 'dewpoint': {'value': 19.400000000000034, 'unitCode': 'unit:degC', 'qualityControl': 'qc:V'}, 'windDirection': {'value': 190, 'unitCode': 'unit:degree_(angle)', 'qualityControl': 'qc:V'}, 'windSpeed': {'value': 2.1, 'unitCode': 'unit:m_s-1', 'qualityControl': 'qc:V'}, 'windGust': {'value': None, 'unitCode': 'unit:m_s-1', 'qualityControl': 'qc:Z'}, 'barometricPressure': {'value': 101590, 'unitCode': 'unit:Pa', 'qualityControl': 'qc:V'}, 'seaLevelPressure': {'value': 101540, 'unitCode': 'unit:Pa', 'qualityControl': 'qc:V'}, 'visibility': {'value': 16090, 'unitCode': 'unit:m', 'qualityControl': 'qc:C'}, 'maxTemperatureLast24Hours': {'value': None, 'unitCode': 'unit:degC', 'qualityControl': None}, 'minTemperatureLast24Hours': {'value': None, 'unitCode': 'unit:degC', 'qualityControl': None}, 'precipitationLastHour': {'value': None, 'unitCode': 'unit:m', 'qualityControl': 'qc:Z'}, 'precipitationLast3Hours': {'value': None, 'unitCode': 'unit:m', 'qualityControl': 'qc:Z'}, 'precipitationLast6Hours': {'value': None, 'unitCode': 'unit:m', 'qualityControl': 'qc:Z'}, 'relativeHumidity': {'value': 68.61205443506749, 'unitCode': 'unit:percent', 'qualityControl': 'qc:C'}, 'windChill': {'value': None, 'unitCode': 'unit:degC', 'qualityControl': 'qc:V'}, 'heatIndex': {'value': 26.007092532471177, 'unitCode': 'unit:degC', 'qualityControl': 'qc:V'}, 'cloudLayers': [{'base': {'value': 4270, 'unitCode': 'unit:m'}, 'amount': 'FEW'}, {'base': {'value': 7620, 'unitCode': 'unit:m'}, 'amount': 'FEW'}]}}\n"
     ]
    }
   ],
   "source": [
    "station = \"KDFW\"\n",
    "ob_time = \"latest\"\n",
    "\n",
    "kiad = Observation()\n",
    "print(kiad.raw)\n",
    "print(kiad.ob)"
   ]
  },
  {
   "cell_type": "code",
   "execution_count": 82,
   "metadata": {},
   "outputs": [
    {
     "data": {
      "text/plain": [
       "{'@context': ['https://raw.githubusercontent.com/geojson/geojson-ld/master/contexts/geojson-base.jsonld',\n",
       "  {'wx': 'https://api.weather.gov/ontology#',\n",
       "   's': 'https://schema.org/',\n",
       "   'geo': 'http://www.opengis.net/ont/geosparql#',\n",
       "   'unit': 'http://codes.wmo.int/common/unit/',\n",
       "   '@vocab': 'https://api.weather.gov/ontology#',\n",
       "   'geometry': {'@id': 's:GeoCoordinates', '@type': 'geo:wktLiteral'},\n",
       "   'city': 's:addressLocality',\n",
       "   'state': 's:addressRegion',\n",
       "   'distance': {'@id': 's:Distance', '@type': 's:QuantitativeValue'},\n",
       "   'bearing': {'@type': 's:QuantitativeValue'},\n",
       "   'value': {'@id': 's:value'},\n",
       "   'unitCode': {'@id': 's:unitCode', '@type': '@id'},\n",
       "   'forecastOffice': {'@type': '@id'},\n",
       "   'forecastGridData': {'@type': '@id'},\n",
       "   'publicZone': {'@type': '@id'},\n",
       "   'county': {'@type': '@id'}}],\n",
       " 'id': 'https://api.weather.gov/stations/KHOU',\n",
       " 'type': 'Feature',\n",
       " 'geometry': {'type': 'Point', 'coordinates': [-95.2825, 29.6375]},\n",
       " 'properties': {'@id': 'https://api.weather.gov/stations/KHOU',\n",
       "  '@type': 'wx:ObservationStation',\n",
       "  'elevation': {'value': 14.020800000000001, 'unitCode': 'unit:m'},\n",
       "  'stationIdentifier': 'KHOU',\n",
       "  'name': 'Houston, Houston Hobby Airport',\n",
       "  'timeZone': 'America/Chicago',\n",
       "  'forecast': 'https://api.weather.gov/zones/forecast/TXZ213',\n",
       "  'county': 'https://api.weather.gov/zones/county/TXC201',\n",
       "  'fireWeatherZone': 'https://api.weather.gov/zones/fire/TXZ213'}}"
      ]
     },
     "execution_count": 82,
     "metadata": {},
     "output_type": "execute_result"
    }
   ],
   "source": [
    "st = stations.Station(station=\"KHOU\")\n",
    "st.raw_data"
   ]
  },
  {
   "cell_type": "code",
   "execution_count": 83,
   "metadata": {},
   "outputs": [
    {
     "data": {
      "text/plain": [
       "46.000001472"
      ]
     },
     "execution_count": 83,
     "metadata": {},
     "output_type": "execute_result"
    }
   ],
   "source": [
    "if st.elev_unit == \"m\":\n",
    "    elevation = st.elevation * 3.28084\n",
    "else:\n",
    "    elevation = st.elevation\n",
    "    \n",
    "elevation"
   ]
  },
  {
   "cell_type": "code",
   "execution_count": 74,
   "metadata": {},
   "outputs": [
    {
     "data": {
      "text/plain": [
       "[-95.9, 41.11667]"
      ]
     },
     "execution_count": 74,
     "metadata": {},
     "output_type": "execute_result"
    }
   ],
   "source": [
    "st.coords"
   ]
  },
  {
   "cell_type": "code",
   "execution_count": 75,
   "metadata": {},
   "outputs": [
    {
     "name": "stdout",
     "output_type": "stream",
     "text": [
      "41.11667 -95.9\n"
     ]
    }
   ],
   "source": [
    "print(st.lat, st.lon)"
   ]
  },
  {
   "cell_type": "code",
   "execution_count": 84,
   "metadata": {},
   "outputs": [
    {
     "name": "stdout",
     "output_type": "stream",
     "text": [
      "['ICAO:  KHOU',\n",
      " 'Name:  Houston, Houston Hobby Airport',\n",
      " 'Time Zone: America/Chicago',\n",
      " 'Elevation: 14.020800000000001 m',\n",
      " 'Coordinates: 29.6375 / -95.2825']\n"
     ]
    }
   ],
   "source": [
    "print(st)"
   ]
  },
  {
   "cell_type": "code",
   "execution_count": 79,
   "metadata": {},
   "outputs": [
    {
     "data": {
      "text/plain": [
       "<wxobs.stations.Station at 0x7fc0113c1470>"
      ]
     },
     "execution_count": 79,
     "metadata": {},
     "output_type": "execute_result"
    }
   ],
   "source": [
    "st"
   ]
  },
  {
   "cell_type": "code",
   "execution_count": null,
   "metadata": {},
   "outputs": [],
   "source": []
  }
 ],
 "metadata": {
  "kernelspec": {
   "display_name": "Python 3",
   "language": "python",
   "name": "python3"
  },
  "language_info": {
   "codemirror_mode": {
    "name": "ipython",
    "version": 3
   },
   "file_extension": ".py",
   "mimetype": "text/x-python",
   "name": "python",
   "nbconvert_exporter": "python",
   "pygments_lexer": "ipython3",
   "version": "3.7.3"
  }
 },
 "nbformat": 4,
 "nbformat_minor": 4
}
