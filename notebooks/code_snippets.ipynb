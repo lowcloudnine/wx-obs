{
 "cells": [
  {
   "cell_type": "code",
   "execution_count": 10,
   "metadata": {},
   "outputs": [],
   "source": [
    "import requests\n",
    "import json\n",
    "import sys\n",
    "\n",
    "sys.path.append(\"..\")\n",
    "from wxobs.observation import Observation"
   ]
  },
  {
   "cell_type": "code",
   "execution_count": 11,
   "metadata": {},
   "outputs": [],
   "source": [
    "station = \"KIAD\"\n",
    "ob_time = \"latest\"\n",
    "\n",
    "kiad = Observation()"
   ]
  },
  {
   "cell_type": "code",
   "execution_count": 13,
   "metadata": {},
   "outputs": [
    {
     "data": {
      "text/plain": [
       "'KIAD 240252Z 32005KT 10SM FEW085 SCT250 23/17 A2991 RMK AO2 SLP126 T02280172 53008'"
      ]
     },
     "execution_count": 13,
     "metadata": {},
     "output_type": "execute_result"
    }
   ],
   "source": [
    "kiad.raw"
   ]
  },
  {
   "cell_type": "code",
   "execution_count": 14,
   "metadata": {},
   "outputs": [
    {
     "data": {
      "text/plain": [
       "{'@context': ['https://raw.githubusercontent.com/geojson/geojson-ld/master/contexts/geojson-base.jsonld',\n",
       "  {'wx': 'https://api.weather.gov/ontology#',\n",
       "   's': 'https://schema.org/',\n",
       "   'geo': 'http://www.opengis.net/ont/geosparql#',\n",
       "   'unit': 'http://codes.wmo.int/common/unit/',\n",
       "   '@vocab': 'https://api.weather.gov/ontology#',\n",
       "   'geometry': {'@id': 's:GeoCoordinates', '@type': 'geo:wktLiteral'},\n",
       "   'city': 's:addressLocality',\n",
       "   'state': 's:addressRegion',\n",
       "   'distance': {'@id': 's:Distance', '@type': 's:QuantitativeValue'},\n",
       "   'bearing': {'@type': 's:QuantitativeValue'},\n",
       "   'value': {'@id': 's:value'},\n",
       "   'unitCode': {'@id': 's:unitCode', '@type': '@id'},\n",
       "   'forecastOffice': {'@type': '@id'},\n",
       "   'forecastGridData': {'@type': '@id'},\n",
       "   'publicZone': {'@type': '@id'},\n",
       "   'county': {'@type': '@id'}}],\n",
       " 'id': 'https://api.weather.gov/stations/KIAD/observations/2019-07-24T02:52:00+00:00',\n",
       " 'type': 'Feature',\n",
       " 'geometry': {'type': 'Point', 'coordinates': [-77.45, 38.95]},\n",
       " 'properties': {'@id': 'https://api.weather.gov/stations/KIAD/observations/2019-07-24T02:52:00+00:00',\n",
       "  '@type': 'wx:ObservationStation',\n",
       "  'elevation': {'value': 98, 'unitCode': 'unit:m'},\n",
       "  'station': 'https://api.weather.gov/stations/KIAD',\n",
       "  'timestamp': '2019-07-24T02:52:00+00:00',\n",
       "  'rawMessage': 'KIAD 240252Z 32005KT 10SM FEW085 SCT250 23/17 A2991 RMK AO2 SLP126 T02280172 53008',\n",
       "  'textDescription': 'Partly Cloudy',\n",
       "  'icon': 'https://api.weather.gov/icons/land/night/sct?size=medium',\n",
       "  'presentWeather': [],\n",
       "  'temperature': {'value': 22.80000000000001,\n",
       "   'unitCode': 'unit:degC',\n",
       "   'qualityControl': 'qc:V'},\n",
       "  'dewpoint': {'value': 17.200000000000045,\n",
       "   'unitCode': 'unit:degC',\n",
       "   'qualityControl': 'qc:V'},\n",
       "  'windDirection': {'value': 320,\n",
       "   'unitCode': 'unit:degree_(angle)',\n",
       "   'qualityControl': 'qc:V'},\n",
       "  'windSpeed': {'value': 2.6,\n",
       "   'unitCode': 'unit:m_s-1',\n",
       "   'qualityControl': 'qc:V'},\n",
       "  'windGust': {'value': None,\n",
       "   'unitCode': 'unit:m_s-1',\n",
       "   'qualityControl': 'qc:Z'},\n",
       "  'barometricPressure': {'value': 101290,\n",
       "   'unitCode': 'unit:Pa',\n",
       "   'qualityControl': 'qc:V'},\n",
       "  'seaLevelPressure': {'value': 101260,\n",
       "   'unitCode': 'unit:Pa',\n",
       "   'qualityControl': 'qc:V'},\n",
       "  'visibility': {'value': 16090,\n",
       "   'unitCode': 'unit:m',\n",
       "   'qualityControl': 'qc:C'},\n",
       "  'maxTemperatureLast24Hours': {'value': None,\n",
       "   'unitCode': 'unit:degC',\n",
       "   'qualityControl': None},\n",
       "  'minTemperatureLast24Hours': {'value': None,\n",
       "   'unitCode': 'unit:degC',\n",
       "   'qualityControl': None},\n",
       "  'precipitationLastHour': {'value': None,\n",
       "   'unitCode': 'unit:m',\n",
       "   'qualityControl': 'qc:Z'},\n",
       "  'precipitationLast3Hours': {'value': None,\n",
       "   'unitCode': 'unit:m',\n",
       "   'qualityControl': 'qc:Z'},\n",
       "  'precipitationLast6Hours': {'value': None,\n",
       "   'unitCode': 'unit:m',\n",
       "   'qualityControl': 'qc:Z'},\n",
       "  'relativeHumidity': {'value': 70.69910487094539,\n",
       "   'unitCode': 'unit:percent',\n",
       "   'qualityControl': 'qc:C'},\n",
       "  'windChill': {'value': None,\n",
       "   'unitCode': 'unit:degC',\n",
       "   'qualityControl': 'qc:V'},\n",
       "  'heatIndex': {'value': 22.981587738296867,\n",
       "   'unitCode': 'unit:degC',\n",
       "   'qualityControl': 'qc:V'},\n",
       "  'cloudLayers': [{'base': {'value': 2590, 'unitCode': 'unit:m'},\n",
       "    'amount': 'FEW'},\n",
       "   {'base': {'value': 7620, 'unitCode': 'unit:m'}, 'amount': 'SCT'}]}}"
      ]
     },
     "execution_count": 14,
     "metadata": {},
     "output_type": "execute_result"
    }
   ],
   "source": [
    "kiad.ob"
   ]
  },
  {
   "cell_type": "code",
   "execution_count": null,
   "metadata": {},
   "outputs": [],
   "source": []
  }
 ],
 "metadata": {
  "kernelspec": {
   "display_name": "Python 3",
   "language": "python",
   "name": "python3"
  },
  "language_info": {
   "codemirror_mode": {
    "name": "ipython",
    "version": 3
   },
   "file_extension": ".py",
   "mimetype": "text/x-python",
   "name": "python",
   "nbconvert_exporter": "python",
   "pygments_lexer": "ipython3",
   "version": "3.7.3"
  }
 },
 "nbformat": 4,
 "nbformat_minor": 4
}
